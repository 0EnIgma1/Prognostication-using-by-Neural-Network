{
 "cells": [
  {
   "cell_type": "markdown",
   "id": "09f3bd7a",
   "metadata": {},
   "source": [
    "# Sales forecast of a pesticide type"
   ]
  },
  {
   "cell_type": "markdown",
   "id": "348c1f2e",
   "metadata": {},
   "source": [
    "### Hypotheses\n",
    "\n",
    "The price of a pesticide type depends on the other pesticides too."
   ]
  },
  {
   "cell_type": "markdown",
   "id": "ec29391c",
   "metadata": {},
   "source": [
    "2 models has been built to test the hypotheses and forecast\n",
    "- Linear Regression\n",
    "- Artificial neural network"
   ]
  },
  {
   "cell_type": "code",
   "execution_count": 1,
   "id": "baf37c3b",
   "metadata": {},
   "outputs": [],
   "source": [
    "#conda install -c intel scikit-learn"
   ]
  },
  {
   "cell_type": "code",
   "execution_count": 2,
   "id": "d771019d",
   "metadata": {},
   "outputs": [],
   "source": [
    "#conda install -c conda-forge pycountry"
   ]
  },
  {
   "cell_type": "code",
   "execution_count": 3,
   "id": "8ac8c0c3",
   "metadata": {},
   "outputs": [],
   "source": [
    "#conda install -c conda-forge tensorflow --yes"
   ]
  },
  {
   "cell_type": "code",
   "execution_count": 4,
   "id": "cfc9d16a",
   "metadata": {},
   "outputs": [],
   "source": [
    "#conda install -c conda-forge keras --yes"
   ]
  },
  {
   "cell_type": "code",
   "execution_count": 5,
   "id": "a2df3a22",
   "metadata": {},
   "outputs": [
    {
     "name": "stderr",
     "output_type": "stream",
     "text": [
      "C:\\Users\\ADMIN\\anaconda3\\lib\\site-packages\\statsmodels\\tsa\\base\\tsa_model.py:7: FutureWarning: pandas.Int64Index is deprecated and will be removed from pandas in a future version. Use pandas.Index with the appropriate dtype instead.\n",
      "  from pandas import (to_datetime, Int64Index, DatetimeIndex, Period,\n",
      "C:\\Users\\ADMIN\\anaconda3\\lib\\site-packages\\statsmodels\\tsa\\base\\tsa_model.py:7: FutureWarning: pandas.Float64Index is deprecated and will be removed from pandas in a future version. Use pandas.Index with the appropriate dtype instead.\n",
      "  from pandas import (to_datetime, Int64Index, DatetimeIndex, Period,\n"
     ]
    }
   ],
   "source": [
    "import pandas as pd\n",
    "import numpy as np\n",
    "import pycountry\n",
    "import matplotlib.pyplot as plt\n",
    "from sklearn.model_selection import train_test_split\n",
    "from sklearn.linear_model import LinearRegression\n",
    "from sklearn import metrics\n",
    "import statsmodels.api as sm\n",
    "import seaborn as sns\n",
    "from sklearn.neural_network import MLPRegressor\n",
    "from sklearn.preprocessing import MinMaxScaler\n",
    "from keras.wrappers.scikit_learn import KerasRegressor\n",
    "from keras.models import Sequential\n",
    "from keras.layers import Dense\n",
    "from keras.layers import Dropout\n",
    "import pickle"
   ]
  },
  {
   "cell_type": "code",
   "execution_count": 6,
   "id": "c4c99e49",
   "metadata": {},
   "outputs": [],
   "source": [
    "df = pd.read_csv('https://cf-courses-data.s3.us.cloud-object-storage.appdomain.cloud/data-science-in-agriculture-prognostication-using-by-neural-network/aei_fm_salpest09__custom_1145078_20210714_093842.sdmx.csv')"
   ]
  },
  {
   "cell_type": "code",
   "execution_count": 7,
   "id": "ada13243",
   "metadata": {},
   "outputs": [
    {
     "name": "stdout",
     "output_type": "stream",
     "text": [
      "<class 'pandas.core.frame.DataFrame'>\n",
      "RangeIndex: 1645 entries, 0 to 1644\n",
      "Data columns (total 9 columns):\n",
      " #   Column       Non-Null Count  Dtype  \n",
      "---  ------       --------------  -----  \n",
      " 0   DATAFLOW     1645 non-null   object \n",
      " 1   LAST UPDATE  1645 non-null   object \n",
      " 2   freq         1645 non-null   object \n",
      " 3   pesticid     1645 non-null   object \n",
      " 4   unit         1645 non-null   object \n",
      " 5   geo          1645 non-null   object \n",
      " 6   TIME_PERIOD  1645 non-null   int64  \n",
      " 7   OBS_VALUE    1527 non-null   float64\n",
      " 8   OBS_FLAG     496 non-null    object \n",
      "dtypes: float64(1), int64(1), object(7)\n",
      "memory usage: 115.8+ KB\n"
     ]
    }
   ],
   "source": [
    "df.info()"
   ]
  },
  {
   "cell_type": "code",
   "execution_count": 8,
   "id": "b631a1e0",
   "metadata": {},
   "outputs": [
    {
     "data": {
      "text/plain": [
       "Index(['DATAFLOW', 'LAST UPDATE', 'freq', 'pesticid', 'unit', 'geo',\n",
       "       'TIME_PERIOD', 'OBS_VALUE', 'OBS_FLAG'],\n",
       "      dtype='object')"
      ]
     },
     "execution_count": 8,
     "metadata": {},
     "output_type": "execute_result"
    }
   ],
   "source": [
    "col = df.columns\n",
    "col"
   ]
  },
  {
   "cell_type": "code",
   "execution_count": 9,
   "id": "46b1ec83",
   "metadata": {},
   "outputs": [
    {
     "name": "stdout",
     "output_type": "stream",
     "text": [
      "<class 'pandas.core.frame.DataFrame'>\n",
      "RangeIndex: 1645 entries, 0 to 1644\n",
      "Data columns (total 4 columns):\n",
      " #   Column       Non-Null Count  Dtype  \n",
      "---  ------       --------------  -----  \n",
      " 0   pesticid     1645 non-null   object \n",
      " 1   geo          1645 non-null   object \n",
      " 2   TIME_PERIOD  1645 non-null   int64  \n",
      " 3   OBS_VALUE    1527 non-null   float64\n",
      "dtypes: float64(1), int64(1), object(2)\n",
      "memory usage: 51.5+ KB\n"
     ]
    }
   ],
   "source": [
    "df = df[[\"pesticid\",\"geo\",\"TIME_PERIOD\",\"OBS_VALUE\"]]\n",
    "df.info()"
   ]
  },
  {
   "cell_type": "markdown",
   "id": "ce67a7eb",
   "metadata": {},
   "source": [
    "Pesticid - pesticide code\n",
    "\n",
    "geo - country code\n",
    "\n",
    "TIME_PERIOD - year\n",
    "\n",
    "OBS_VALUE - volume of sales in KG"
   ]
  },
  {
   "cell_type": "code",
   "execution_count": 10,
   "id": "15a69042",
   "metadata": {},
   "outputs": [
    {
     "data": {
      "text/html": [
       "<div>\n",
       "<style scoped>\n",
       "    .dataframe tbody tr th:only-of-type {\n",
       "        vertical-align: middle;\n",
       "    }\n",
       "\n",
       "    .dataframe tbody tr th {\n",
       "        vertical-align: top;\n",
       "    }\n",
       "\n",
       "    .dataframe thead th {\n",
       "        text-align: right;\n",
       "    }\n",
       "</style>\n",
       "<table border=\"1\" class=\"dataframe\">\n",
       "  <thead>\n",
       "    <tr style=\"text-align: right;\">\n",
       "      <th></th>\n",
       "      <th>pesticid</th>\n",
       "      <th>geo</th>\n",
       "    </tr>\n",
       "  </thead>\n",
       "  <tbody>\n",
       "    <tr>\n",
       "      <th>count</th>\n",
       "      <td>1645</td>\n",
       "      <td>1645</td>\n",
       "    </tr>\n",
       "    <tr>\n",
       "      <th>unique</th>\n",
       "      <td>6</td>\n",
       "      <td>32</td>\n",
       "    </tr>\n",
       "    <tr>\n",
       "      <th>top</th>\n",
       "      <td>F</td>\n",
       "      <td>AT</td>\n",
       "    </tr>\n",
       "    <tr>\n",
       "      <th>freq</th>\n",
       "      <td>277</td>\n",
       "      <td>54</td>\n",
       "    </tr>\n",
       "  </tbody>\n",
       "</table>\n",
       "</div>"
      ],
      "text/plain": [
       "       pesticid   geo\n",
       "count      1645  1645\n",
       "unique        6    32\n",
       "top           F    AT\n",
       "freq        277    54"
      ]
     },
     "execution_count": 10,
     "metadata": {},
     "output_type": "execute_result"
    }
   ],
   "source": [
    "col = ['pesticid','geo']\n",
    "df.loc[:,col] = df[col].astype('category')\n",
    "df[col].describe()"
   ]
  },
  {
   "cell_type": "code",
   "execution_count": 11,
   "id": "3899b4c8",
   "metadata": {},
   "outputs": [
    {
     "data": {
      "text/plain": [
       "['F', 'H', 'I', 'M', 'PGR', 'ZR']\n",
       "Categories (6, object): ['F', 'H', 'I', 'M', 'PGR', 'ZR']"
      ]
     },
     "execution_count": 11,
     "metadata": {},
     "output_type": "execute_result"
    }
   ],
   "source": [
    "df['pesticid'].unique()"
   ]
  },
  {
   "cell_type": "code",
   "execution_count": 12,
   "id": "739e56d3",
   "metadata": {},
   "outputs": [
    {
     "data": {
      "text/plain": [
       "Index(['AT', 'BE', 'BG', 'CH', 'CY', 'CZ', 'DE', 'DK', 'EE', 'EL', 'ES', 'FI',\n",
       "       'FR', 'HR', 'HU', 'IE', 'IS', 'IT', 'LT', 'LU', 'LV', 'MT', 'NL', 'NO',\n",
       "       'PL', 'PT', 'RO', 'SE', 'SI', 'SK', 'TR', 'UK'],\n",
       "      dtype='object')"
      ]
     },
     "execution_count": 12,
     "metadata": {},
     "output_type": "execute_result"
    }
   ],
   "source": [
    "df['geo'].cat.categories"
   ]
  },
  {
   "cell_type": "code",
   "execution_count": 13,
   "id": "65bf270a",
   "metadata": {},
   "outputs": [],
   "source": [
    "df.loc[:,'geo'] = df['geo'].cat.add_categories(['GB','GR'])"
   ]
  },
  {
   "cell_type": "code",
   "execution_count": 14,
   "id": "783cbde0",
   "metadata": {},
   "outputs": [],
   "source": [
    "pd.options.mode.chained_assignment = None\n",
    "mask = df['geo'] == 'UK'\n",
    "df.loc[mask,'geo'] = 'GB'"
   ]
  },
  {
   "cell_type": "code",
   "execution_count": 15,
   "id": "574b4adc",
   "metadata": {},
   "outputs": [
    {
     "data": {
      "text/html": [
       "<div>\n",
       "<style scoped>\n",
       "    .dataframe tbody tr th:only-of-type {\n",
       "        vertical-align: middle;\n",
       "    }\n",
       "\n",
       "    .dataframe tbody tr th {\n",
       "        vertical-align: top;\n",
       "    }\n",
       "\n",
       "    .dataframe thead th {\n",
       "        text-align: right;\n",
       "    }\n",
       "</style>\n",
       "<table border=\"1\" class=\"dataframe\">\n",
       "  <thead>\n",
       "    <tr style=\"text-align: right;\">\n",
       "      <th></th>\n",
       "      <th>pesticid</th>\n",
       "      <th>geo</th>\n",
       "      <th>TIME_PERIOD</th>\n",
       "      <th>OBS_VALUE</th>\n",
       "    </tr>\n",
       "  </thead>\n",
       "  <tbody>\n",
       "    <tr>\n",
       "      <th>0</th>\n",
       "      <td>F</td>\n",
       "      <td>AT</td>\n",
       "      <td>2011</td>\n",
       "      <td>1544218.0</td>\n",
       "    </tr>\n",
       "    <tr>\n",
       "      <th>1</th>\n",
       "      <td>F</td>\n",
       "      <td>AT</td>\n",
       "      <td>2012</td>\n",
       "      <td>1634371.0</td>\n",
       "    </tr>\n",
       "    <tr>\n",
       "      <th>2</th>\n",
       "      <td>F</td>\n",
       "      <td>AT</td>\n",
       "      <td>2013</td>\n",
       "      <td>1492799.0</td>\n",
       "    </tr>\n",
       "    <tr>\n",
       "      <th>3</th>\n",
       "      <td>F</td>\n",
       "      <td>AT</td>\n",
       "      <td>2014</td>\n",
       "      <td>1641055.0</td>\n",
       "    </tr>\n",
       "    <tr>\n",
       "      <th>4</th>\n",
       "      <td>F</td>\n",
       "      <td>AT</td>\n",
       "      <td>2015</td>\n",
       "      <td>2130973.0</td>\n",
       "    </tr>\n",
       "    <tr>\n",
       "      <th>...</th>\n",
       "      <td>...</td>\n",
       "      <td>...</td>\n",
       "      <td>...</td>\n",
       "      <td>...</td>\n",
       "    </tr>\n",
       "    <tr>\n",
       "      <th>1640</th>\n",
       "      <td>ZR</td>\n",
       "      <td>GB</td>\n",
       "      <td>2015</td>\n",
       "      <td>NaN</td>\n",
       "    </tr>\n",
       "    <tr>\n",
       "      <th>1641</th>\n",
       "      <td>ZR</td>\n",
       "      <td>GB</td>\n",
       "      <td>2016</td>\n",
       "      <td>NaN</td>\n",
       "    </tr>\n",
       "    <tr>\n",
       "      <th>1642</th>\n",
       "      <td>ZR</td>\n",
       "      <td>GB</td>\n",
       "      <td>2017</td>\n",
       "      <td>270493.0</td>\n",
       "    </tr>\n",
       "    <tr>\n",
       "      <th>1643</th>\n",
       "      <td>ZR</td>\n",
       "      <td>GB</td>\n",
       "      <td>2018</td>\n",
       "      <td>NaN</td>\n",
       "    </tr>\n",
       "    <tr>\n",
       "      <th>1644</th>\n",
       "      <td>ZR</td>\n",
       "      <td>GB</td>\n",
       "      <td>2019</td>\n",
       "      <td>255061.0</td>\n",
       "    </tr>\n",
       "  </tbody>\n",
       "</table>\n",
       "<p>1645 rows × 4 columns</p>\n",
       "</div>"
      ],
      "text/plain": [
       "     pesticid geo  TIME_PERIOD  OBS_VALUE\n",
       "0           F  AT         2011  1544218.0\n",
       "1           F  AT         2012  1634371.0\n",
       "2           F  AT         2013  1492799.0\n",
       "3           F  AT         2014  1641055.0\n",
       "4           F  AT         2015  2130973.0\n",
       "...       ...  ..          ...        ...\n",
       "1640       ZR  GB         2015        NaN\n",
       "1641       ZR  GB         2016        NaN\n",
       "1642       ZR  GB         2017   270493.0\n",
       "1643       ZR  GB         2018        NaN\n",
       "1644       ZR  GB         2019   255061.0\n",
       "\n",
       "[1645 rows x 4 columns]"
      ]
     },
     "execution_count": 15,
     "metadata": {},
     "output_type": "execute_result"
    }
   ],
   "source": [
    "mask = df['geo'] == 'EL'\n",
    "df.loc[mask,'geo'] = 'GR'\n",
    "df"
   ]
  },
  {
   "cell_type": "code",
   "execution_count": 16,
   "id": "1c98cc76",
   "metadata": {},
   "outputs": [],
   "source": [
    "country_list = [i.alpha_2 for i in list(pycountry.countries)]\n",
    "\n",
    "def country_flag(df):\n",
    "    if (df['geo'] in country_list):\n",
    "        return pycountry.countries.get(alpha_2 = df['geo']).name\n",
    "    else:\n",
    "        print(df['geo'])\n",
    "        return \"Invalid Code\"\n",
    "\n",
    "df['country_name'] = df.apply(country_flag, axis = 1)"
   ]
  },
  {
   "cell_type": "code",
   "execution_count": 17,
   "id": "03b38f61",
   "metadata": {},
   "outputs": [
    {
     "data": {
      "text/html": [
       "<div>\n",
       "<style scoped>\n",
       "    .dataframe tbody tr th:only-of-type {\n",
       "        vertical-align: middle;\n",
       "    }\n",
       "\n",
       "    .dataframe tbody tr th {\n",
       "        vertical-align: top;\n",
       "    }\n",
       "\n",
       "    .dataframe thead th {\n",
       "        text-align: right;\n",
       "    }\n",
       "</style>\n",
       "<table border=\"1\" class=\"dataframe\">\n",
       "  <thead>\n",
       "    <tr style=\"text-align: right;\">\n",
       "      <th></th>\n",
       "      <th>pesticid</th>\n",
       "      <th>geo</th>\n",
       "      <th>TIME_PERIOD</th>\n",
       "      <th>OBS_VALUE</th>\n",
       "      <th>country_name</th>\n",
       "    </tr>\n",
       "  </thead>\n",
       "  <tbody>\n",
       "    <tr>\n",
       "      <th>0</th>\n",
       "      <td>F</td>\n",
       "      <td>AT</td>\n",
       "      <td>2011</td>\n",
       "      <td>1544218.0</td>\n",
       "      <td>Austria</td>\n",
       "    </tr>\n",
       "    <tr>\n",
       "      <th>1</th>\n",
       "      <td>F</td>\n",
       "      <td>AT</td>\n",
       "      <td>2012</td>\n",
       "      <td>1634371.0</td>\n",
       "      <td>Austria</td>\n",
       "    </tr>\n",
       "    <tr>\n",
       "      <th>2</th>\n",
       "      <td>F</td>\n",
       "      <td>AT</td>\n",
       "      <td>2013</td>\n",
       "      <td>1492799.0</td>\n",
       "      <td>Austria</td>\n",
       "    </tr>\n",
       "    <tr>\n",
       "      <th>3</th>\n",
       "      <td>F</td>\n",
       "      <td>AT</td>\n",
       "      <td>2014</td>\n",
       "      <td>1641055.0</td>\n",
       "      <td>Austria</td>\n",
       "    </tr>\n",
       "    <tr>\n",
       "      <th>4</th>\n",
       "      <td>F</td>\n",
       "      <td>AT</td>\n",
       "      <td>2015</td>\n",
       "      <td>2130973.0</td>\n",
       "      <td>Austria</td>\n",
       "    </tr>\n",
       "    <tr>\n",
       "      <th>...</th>\n",
       "      <td>...</td>\n",
       "      <td>...</td>\n",
       "      <td>...</td>\n",
       "      <td>...</td>\n",
       "      <td>...</td>\n",
       "    </tr>\n",
       "    <tr>\n",
       "      <th>1640</th>\n",
       "      <td>ZR</td>\n",
       "      <td>GB</td>\n",
       "      <td>2015</td>\n",
       "      <td>NaN</td>\n",
       "      <td>United Kingdom</td>\n",
       "    </tr>\n",
       "    <tr>\n",
       "      <th>1641</th>\n",
       "      <td>ZR</td>\n",
       "      <td>GB</td>\n",
       "      <td>2016</td>\n",
       "      <td>NaN</td>\n",
       "      <td>United Kingdom</td>\n",
       "    </tr>\n",
       "    <tr>\n",
       "      <th>1642</th>\n",
       "      <td>ZR</td>\n",
       "      <td>GB</td>\n",
       "      <td>2017</td>\n",
       "      <td>270493.0</td>\n",
       "      <td>United Kingdom</td>\n",
       "    </tr>\n",
       "    <tr>\n",
       "      <th>1643</th>\n",
       "      <td>ZR</td>\n",
       "      <td>GB</td>\n",
       "      <td>2018</td>\n",
       "      <td>NaN</td>\n",
       "      <td>United Kingdom</td>\n",
       "    </tr>\n",
       "    <tr>\n",
       "      <th>1644</th>\n",
       "      <td>ZR</td>\n",
       "      <td>GB</td>\n",
       "      <td>2019</td>\n",
       "      <td>255061.0</td>\n",
       "      <td>United Kingdom</td>\n",
       "    </tr>\n",
       "  </tbody>\n",
       "</table>\n",
       "<p>1645 rows × 5 columns</p>\n",
       "</div>"
      ],
      "text/plain": [
       "     pesticid geo  TIME_PERIOD  OBS_VALUE    country_name\n",
       "0           F  AT         2011  1544218.0         Austria\n",
       "1           F  AT         2012  1634371.0         Austria\n",
       "2           F  AT         2013  1492799.0         Austria\n",
       "3           F  AT         2014  1641055.0         Austria\n",
       "4           F  AT         2015  2130973.0         Austria\n",
       "...       ...  ..          ...        ...             ...\n",
       "1640       ZR  GB         2015        NaN  United Kingdom\n",
       "1641       ZR  GB         2016        NaN  United Kingdom\n",
       "1642       ZR  GB         2017   270493.0  United Kingdom\n",
       "1643       ZR  GB         2018        NaN  United Kingdom\n",
       "1644       ZR  GB         2019   255061.0  United Kingdom\n",
       "\n",
       "[1645 rows x 5 columns]"
      ]
     },
     "execution_count": 17,
     "metadata": {},
     "output_type": "execute_result"
    }
   ],
   "source": [
    "df"
   ]
  },
  {
   "cell_type": "markdown",
   "id": "3e9bc504",
   "metadata": {},
   "source": [
    "create a dictionary where key is pesticide code and value is pesticide name"
   ]
  },
  {
   "cell_type": "code",
   "execution_count": 18,
   "id": "374d3798",
   "metadata": {},
   "outputs": [],
   "source": [
    "pes = {'F': 'Fungicides and bactericides',\n",
    "      'H': 'Herbicides, haulm destructors and moss killers',\n",
    "      'I': 'Insecticides and acaricides',\n",
    "      'M': 'Molluscicides',\n",
    "      'PGR': 'Plant growth regulators',\n",
    "      'ZR': 'Other plant protection products'}"
   ]
  },
  {
   "cell_type": "code",
   "execution_count": 19,
   "id": "fb35cab0",
   "metadata": {},
   "outputs": [
    {
     "data": {
      "text/html": [
       "<div>\n",
       "<style scoped>\n",
       "    .dataframe tbody tr th:only-of-type {\n",
       "        vertical-align: middle;\n",
       "    }\n",
       "\n",
       "    .dataframe tbody tr th {\n",
       "        vertical-align: top;\n",
       "    }\n",
       "\n",
       "    .dataframe thead th {\n",
       "        text-align: right;\n",
       "    }\n",
       "</style>\n",
       "<table border=\"1\" class=\"dataframe\">\n",
       "  <thead>\n",
       "    <tr style=\"text-align: right;\">\n",
       "      <th></th>\n",
       "      <th>pesticid</th>\n",
       "      <th>geo</th>\n",
       "      <th>TIME_PERIOD</th>\n",
       "      <th>OBS_VALUE</th>\n",
       "      <th>country_name</th>\n",
       "      <th>pesticid_name</th>\n",
       "    </tr>\n",
       "  </thead>\n",
       "  <tbody>\n",
       "    <tr>\n",
       "      <th>0</th>\n",
       "      <td>F</td>\n",
       "      <td>AT</td>\n",
       "      <td>2011</td>\n",
       "      <td>1544218.0</td>\n",
       "      <td>Austria</td>\n",
       "      <td>Fungicides and bactericides</td>\n",
       "    </tr>\n",
       "    <tr>\n",
       "      <th>1</th>\n",
       "      <td>F</td>\n",
       "      <td>AT</td>\n",
       "      <td>2012</td>\n",
       "      <td>1634371.0</td>\n",
       "      <td>Austria</td>\n",
       "      <td>Fungicides and bactericides</td>\n",
       "    </tr>\n",
       "    <tr>\n",
       "      <th>2</th>\n",
       "      <td>F</td>\n",
       "      <td>AT</td>\n",
       "      <td>2013</td>\n",
       "      <td>1492799.0</td>\n",
       "      <td>Austria</td>\n",
       "      <td>Fungicides and bactericides</td>\n",
       "    </tr>\n",
       "    <tr>\n",
       "      <th>3</th>\n",
       "      <td>F</td>\n",
       "      <td>AT</td>\n",
       "      <td>2014</td>\n",
       "      <td>1641055.0</td>\n",
       "      <td>Austria</td>\n",
       "      <td>Fungicides and bactericides</td>\n",
       "    </tr>\n",
       "    <tr>\n",
       "      <th>4</th>\n",
       "      <td>F</td>\n",
       "      <td>AT</td>\n",
       "      <td>2015</td>\n",
       "      <td>2130973.0</td>\n",
       "      <td>Austria</td>\n",
       "      <td>Fungicides and bactericides</td>\n",
       "    </tr>\n",
       "    <tr>\n",
       "      <th>...</th>\n",
       "      <td>...</td>\n",
       "      <td>...</td>\n",
       "      <td>...</td>\n",
       "      <td>...</td>\n",
       "      <td>...</td>\n",
       "      <td>...</td>\n",
       "    </tr>\n",
       "    <tr>\n",
       "      <th>1640</th>\n",
       "      <td>ZR</td>\n",
       "      <td>GB</td>\n",
       "      <td>2015</td>\n",
       "      <td>NaN</td>\n",
       "      <td>United Kingdom</td>\n",
       "      <td>Other plant protection products</td>\n",
       "    </tr>\n",
       "    <tr>\n",
       "      <th>1641</th>\n",
       "      <td>ZR</td>\n",
       "      <td>GB</td>\n",
       "      <td>2016</td>\n",
       "      <td>NaN</td>\n",
       "      <td>United Kingdom</td>\n",
       "      <td>Other plant protection products</td>\n",
       "    </tr>\n",
       "    <tr>\n",
       "      <th>1642</th>\n",
       "      <td>ZR</td>\n",
       "      <td>GB</td>\n",
       "      <td>2017</td>\n",
       "      <td>270493.0</td>\n",
       "      <td>United Kingdom</td>\n",
       "      <td>Other plant protection products</td>\n",
       "    </tr>\n",
       "    <tr>\n",
       "      <th>1643</th>\n",
       "      <td>ZR</td>\n",
       "      <td>GB</td>\n",
       "      <td>2018</td>\n",
       "      <td>NaN</td>\n",
       "      <td>United Kingdom</td>\n",
       "      <td>Other plant protection products</td>\n",
       "    </tr>\n",
       "    <tr>\n",
       "      <th>1644</th>\n",
       "      <td>ZR</td>\n",
       "      <td>GB</td>\n",
       "      <td>2019</td>\n",
       "      <td>255061.0</td>\n",
       "      <td>United Kingdom</td>\n",
       "      <td>Other plant protection products</td>\n",
       "    </tr>\n",
       "  </tbody>\n",
       "</table>\n",
       "<p>1645 rows × 6 columns</p>\n",
       "</div>"
      ],
      "text/plain": [
       "     pesticid geo  TIME_PERIOD  OBS_VALUE    country_name  \\\n",
       "0           F  AT         2011  1544218.0         Austria   \n",
       "1           F  AT         2012  1634371.0         Austria   \n",
       "2           F  AT         2013  1492799.0         Austria   \n",
       "3           F  AT         2014  1641055.0         Austria   \n",
       "4           F  AT         2015  2130973.0         Austria   \n",
       "...       ...  ..          ...        ...             ...   \n",
       "1640       ZR  GB         2015        NaN  United Kingdom   \n",
       "1641       ZR  GB         2016        NaN  United Kingdom   \n",
       "1642       ZR  GB         2017   270493.0  United Kingdom   \n",
       "1643       ZR  GB         2018        NaN  United Kingdom   \n",
       "1644       ZR  GB         2019   255061.0  United Kingdom   \n",
       "\n",
       "                        pesticid_name  \n",
       "0         Fungicides and bactericides  \n",
       "1         Fungicides and bactericides  \n",
       "2         Fungicides and bactericides  \n",
       "3         Fungicides and bactericides  \n",
       "4         Fungicides and bactericides  \n",
       "...                               ...  \n",
       "1640  Other plant protection products  \n",
       "1641  Other plant protection products  \n",
       "1642  Other plant protection products  \n",
       "1643  Other plant protection products  \n",
       "1644  Other plant protection products  \n",
       "\n",
       "[1645 rows x 6 columns]"
      ]
     },
     "execution_count": 19,
     "metadata": {},
     "output_type": "execute_result"
    }
   ],
   "source": [
    "df['pesticid_name'] = df['pesticid'].map(pes)\n",
    "df['pesticid_name'] = df['pesticid_name'].astype('category')\n",
    "df"
   ]
  },
  {
   "cell_type": "code",
   "execution_count": 20,
   "id": "939f1c4c",
   "metadata": {},
   "outputs": [
    {
     "data": {
      "text/html": [
       "<div>\n",
       "<style scoped>\n",
       "    .dataframe tbody tr th:only-of-type {\n",
       "        vertical-align: middle;\n",
       "    }\n",
       "\n",
       "    .dataframe tbody tr th {\n",
       "        vertical-align: top;\n",
       "    }\n",
       "\n",
       "    .dataframe thead th {\n",
       "        text-align: right;\n",
       "    }\n",
       "</style>\n",
       "<table border=\"1\" class=\"dataframe\">\n",
       "  <thead>\n",
       "    <tr style=\"text-align: right;\">\n",
       "      <th></th>\n",
       "      <th>pesticid_name</th>\n",
       "    </tr>\n",
       "  </thead>\n",
       "  <tbody>\n",
       "    <tr>\n",
       "      <th>Fungicides and bactericides</th>\n",
       "      <td>277</td>\n",
       "    </tr>\n",
       "    <tr>\n",
       "      <th>Herbicides, haulm destructors and moss killers</th>\n",
       "      <td>277</td>\n",
       "    </tr>\n",
       "    <tr>\n",
       "      <th>Insecticides and acaricides</th>\n",
       "      <td>277</td>\n",
       "    </tr>\n",
       "    <tr>\n",
       "      <th>Plant growth regulators</th>\n",
       "      <td>273</td>\n",
       "    </tr>\n",
       "    <tr>\n",
       "      <th>Other plant protection products</th>\n",
       "      <td>272</td>\n",
       "    </tr>\n",
       "    <tr>\n",
       "      <th>Molluscicides</th>\n",
       "      <td>269</td>\n",
       "    </tr>\n",
       "  </tbody>\n",
       "</table>\n",
       "</div>"
      ],
      "text/plain": [
       "                                                pesticid_name\n",
       "Fungicides and bactericides                               277\n",
       "Herbicides, haulm destructors and moss killers            277\n",
       "Insecticides and acaricides                               277\n",
       "Plant growth regulators                                   273\n",
       "Other plant protection products                           272\n",
       "Molluscicides                                             269"
      ]
     },
     "execution_count": 20,
     "metadata": {},
     "output_type": "execute_result"
    }
   ],
   "source": [
    "df['pesticid_name'].value_counts().to_frame()"
   ]
  },
  {
   "cell_type": "code",
   "execution_count": 21,
   "id": "3f330300",
   "metadata": {},
   "outputs": [
    {
     "data": {
      "text/html": [
       "<div>\n",
       "<style scoped>\n",
       "    .dataframe tbody tr th:only-of-type {\n",
       "        vertical-align: middle;\n",
       "    }\n",
       "\n",
       "    .dataframe tbody tr th {\n",
       "        vertical-align: top;\n",
       "    }\n",
       "\n",
       "    .dataframe thead th {\n",
       "        text-align: right;\n",
       "    }\n",
       "</style>\n",
       "<table border=\"1\" class=\"dataframe\">\n",
       "  <thead>\n",
       "    <tr style=\"text-align: right;\">\n",
       "      <th></th>\n",
       "      <th>OBS_VALUE</th>\n",
       "    </tr>\n",
       "    <tr>\n",
       "      <th>pesticid_name</th>\n",
       "      <th></th>\n",
       "    </tr>\n",
       "  </thead>\n",
       "  <tbody>\n",
       "    <tr>\n",
       "      <th>Fungicides and bactericides</th>\n",
       "      <td>1,524,159,525</td>\n",
       "    </tr>\n",
       "    <tr>\n",
       "      <th>Herbicides, haulm destructors and moss killers</th>\n",
       "      <td>1,214,404,016</td>\n",
       "    </tr>\n",
       "    <tr>\n",
       "      <th>Insecticides and acaricides</th>\n",
       "      <td>383,335,093</td>\n",
       "    </tr>\n",
       "    <tr>\n",
       "      <th>Other plant protection products</th>\n",
       "      <td>361,363,116</td>\n",
       "    </tr>\n",
       "    <tr>\n",
       "      <th>Plant growth regulators</th>\n",
       "      <td>125,821,810</td>\n",
       "    </tr>\n",
       "    <tr>\n",
       "      <th>Molluscicides</th>\n",
       "      <td>12,371,665</td>\n",
       "    </tr>\n",
       "  </tbody>\n",
       "</table>\n",
       "</div>"
      ],
      "text/plain": [
       "                                                   OBS_VALUE\n",
       "pesticid_name                                               \n",
       "Fungicides and bactericides                    1,524,159,525\n",
       "Herbicides, haulm destructors and moss killers 1,214,404,016\n",
       "Insecticides and acaricides                      383,335,093\n",
       "Other plant protection products                  361,363,116\n",
       "Plant growth regulators                          125,821,810\n",
       "Molluscicides                                     12,371,665"
      ]
     },
     "execution_count": 21,
     "metadata": {},
     "output_type": "execute_result"
    }
   ],
   "source": [
    "pd.options.display.float_format = '{:,.0f}'.format\n",
    "df.groupby('pesticid_name')['OBS_VALUE'].sum().sort_values(ascending = False).to_frame()"
   ]
  },
  {
   "cell_type": "code",
   "execution_count": 22,
   "id": "e4324e91",
   "metadata": {},
   "outputs": [],
   "source": [
    "df.dropna(inplace=True)"
   ]
  },
  {
   "cell_type": "code",
   "execution_count": 23,
   "id": "1ae7946d",
   "metadata": {},
   "outputs": [
    {
     "name": "stdout",
     "output_type": "stream",
     "text": [
      "<class 'pandas.core.frame.DataFrame'>\n",
      "Int64Index: 1527 entries, 0 to 1644\n",
      "Data columns (total 6 columns):\n",
      " #   Column         Non-Null Count  Dtype   \n",
      "---  ------         --------------  -----   \n",
      " 0   pesticid       1527 non-null   category\n",
      " 1   geo            1527 non-null   category\n",
      " 2   TIME_PERIOD    1527 non-null   int64   \n",
      " 3   OBS_VALUE      1527 non-null   float64 \n",
      " 4   country_name   1527 non-null   object  \n",
      " 5   pesticid_name  1527 non-null   category\n",
      "dtypes: category(3), float64(1), int64(1), object(1)\n",
      "memory usage: 53.9+ KB\n"
     ]
    }
   ],
   "source": [
    "df.info()"
   ]
  },
  {
   "cell_type": "code",
   "execution_count": 24,
   "id": "8d88e719",
   "metadata": {},
   "outputs": [],
   "source": [
    "p_df = df.pivot_table(values='OBS_VALUE', index = ['country_name','TIME_PERIOD',], columns = ['pesticid_name'], aggfunc = np.sum, margins = False, dropna = False, fill_value = 0)"
   ]
  },
  {
   "cell_type": "code",
   "execution_count": 25,
   "id": "afe3d32c",
   "metadata": {},
   "outputs": [
    {
     "data": {
      "text/html": [
       "<div>\n",
       "<style scoped>\n",
       "    .dataframe tbody tr th:only-of-type {\n",
       "        vertical-align: middle;\n",
       "    }\n",
       "\n",
       "    .dataframe tbody tr th {\n",
       "        vertical-align: top;\n",
       "    }\n",
       "\n",
       "    .dataframe thead th {\n",
       "        text-align: right;\n",
       "    }\n",
       "</style>\n",
       "<table border=\"1\" class=\"dataframe\">\n",
       "  <thead>\n",
       "    <tr style=\"text-align: right;\">\n",
       "      <th></th>\n",
       "      <th>pesticid_name</th>\n",
       "      <th>Fungicides and bactericides</th>\n",
       "      <th>Herbicides, haulm destructors and moss killers</th>\n",
       "      <th>Insecticides and acaricides</th>\n",
       "      <th>Molluscicides</th>\n",
       "      <th>Plant growth regulators</th>\n",
       "      <th>Other plant protection products</th>\n",
       "    </tr>\n",
       "    <tr>\n",
       "      <th>country_name</th>\n",
       "      <th>TIME_PERIOD</th>\n",
       "      <th></th>\n",
       "      <th></th>\n",
       "      <th></th>\n",
       "      <th></th>\n",
       "      <th></th>\n",
       "      <th></th>\n",
       "    </tr>\n",
       "  </thead>\n",
       "  <tbody>\n",
       "    <tr>\n",
       "      <th rowspan=\"5\" valign=\"top\">Austria</th>\n",
       "      <th>2011</th>\n",
       "      <td>1544218</td>\n",
       "      <td>1505163</td>\n",
       "      <td>247982</td>\n",
       "      <td>33428</td>\n",
       "      <td>59369</td>\n",
       "      <td>58114</td>\n",
       "    </tr>\n",
       "    <tr>\n",
       "      <th>2012</th>\n",
       "      <td>1634371</td>\n",
       "      <td>1544519</td>\n",
       "      <td>244079</td>\n",
       "      <td>23653</td>\n",
       "      <td>67373</td>\n",
       "      <td>43028</td>\n",
       "    </tr>\n",
       "    <tr>\n",
       "      <th>2013</th>\n",
       "      <td>1492799</td>\n",
       "      <td>1227017</td>\n",
       "      <td>238252</td>\n",
       "      <td>13471</td>\n",
       "      <td>45386</td>\n",
       "      <td>80517</td>\n",
       "    </tr>\n",
       "    <tr>\n",
       "      <th>2014</th>\n",
       "      <td>1641055</td>\n",
       "      <td>1375815</td>\n",
       "      <td>240298</td>\n",
       "      <td>16180</td>\n",
       "      <td>53530</td>\n",
       "      <td>46345</td>\n",
       "    </tr>\n",
       "    <tr>\n",
       "      <th>2015</th>\n",
       "      <td>2130973</td>\n",
       "      <td>1317219</td>\n",
       "      <td>195649</td>\n",
       "      <td>21214</td>\n",
       "      <td>68722</td>\n",
       "      <td>43840</td>\n",
       "    </tr>\n",
       "    <tr>\n",
       "      <th>...</th>\n",
       "      <th>...</th>\n",
       "      <td>...</td>\n",
       "      <td>...</td>\n",
       "      <td>...</td>\n",
       "      <td>...</td>\n",
       "      <td>...</td>\n",
       "      <td>...</td>\n",
       "    </tr>\n",
       "    <tr>\n",
       "      <th rowspan=\"5\" valign=\"top\">United Kingdom</th>\n",
       "      <th>2015</th>\n",
       "      <td>6032359</td>\n",
       "      <td>11463648</td>\n",
       "      <td>657938</td>\n",
       "      <td>0</td>\n",
       "      <td>3171290</td>\n",
       "      <td>0</td>\n",
       "    </tr>\n",
       "    <tr>\n",
       "      <th>2016</th>\n",
       "      <td>5330003</td>\n",
       "      <td>9810278</td>\n",
       "      <td>347876</td>\n",
       "      <td>0</td>\n",
       "      <td>0</td>\n",
       "      <td>0</td>\n",
       "    </tr>\n",
       "    <tr>\n",
       "      <th>2017</th>\n",
       "      <td>5484053</td>\n",
       "      <td>9681731</td>\n",
       "      <td>433843</td>\n",
       "      <td>0</td>\n",
       "      <td>0</td>\n",
       "      <td>270493</td>\n",
       "    </tr>\n",
       "    <tr>\n",
       "      <th>2018</th>\n",
       "      <td>4492460</td>\n",
       "      <td>10891852</td>\n",
       "      <td>131984</td>\n",
       "      <td>0</td>\n",
       "      <td>0</td>\n",
       "      <td>0</td>\n",
       "    </tr>\n",
       "    <tr>\n",
       "      <th>2019</th>\n",
       "      <td>6056984</td>\n",
       "      <td>9890402</td>\n",
       "      <td>226423</td>\n",
       "      <td>0</td>\n",
       "      <td>0</td>\n",
       "      <td>255061</td>\n",
       "    </tr>\n",
       "  </tbody>\n",
       "</table>\n",
       "<p>288 rows × 6 columns</p>\n",
       "</div>"
      ],
      "text/plain": [
       "pesticid_name               Fungicides and bactericides  \\\n",
       "country_name   TIME_PERIOD                                \n",
       "Austria        2011                             1544218   \n",
       "               2012                             1634371   \n",
       "               2013                             1492799   \n",
       "               2014                             1641055   \n",
       "               2015                             2130973   \n",
       "...                                                 ...   \n",
       "United Kingdom 2015                             6032359   \n",
       "               2016                             5330003   \n",
       "               2017                             5484053   \n",
       "               2018                             4492460   \n",
       "               2019                             6056984   \n",
       "\n",
       "pesticid_name               Herbicides, haulm destructors and moss killers  \\\n",
       "country_name   TIME_PERIOD                                                   \n",
       "Austria        2011                                                1505163   \n",
       "               2012                                                1544519   \n",
       "               2013                                                1227017   \n",
       "               2014                                                1375815   \n",
       "               2015                                                1317219   \n",
       "...                                                                    ...   \n",
       "United Kingdom 2015                                               11463648   \n",
       "               2016                                                9810278   \n",
       "               2017                                                9681731   \n",
       "               2018                                               10891852   \n",
       "               2019                                                9890402   \n",
       "\n",
       "pesticid_name               Insecticides and acaricides  Molluscicides  \\\n",
       "country_name   TIME_PERIOD                                               \n",
       "Austria        2011                              247982          33428   \n",
       "               2012                              244079          23653   \n",
       "               2013                              238252          13471   \n",
       "               2014                              240298          16180   \n",
       "               2015                              195649          21214   \n",
       "...                                                 ...            ...   \n",
       "United Kingdom 2015                              657938              0   \n",
       "               2016                              347876              0   \n",
       "               2017                              433843              0   \n",
       "               2018                              131984              0   \n",
       "               2019                              226423              0   \n",
       "\n",
       "pesticid_name               Plant growth regulators  \\\n",
       "country_name   TIME_PERIOD                            \n",
       "Austria        2011                           59369   \n",
       "               2012                           67373   \n",
       "               2013                           45386   \n",
       "               2014                           53530   \n",
       "               2015                           68722   \n",
       "...                                             ...   \n",
       "United Kingdom 2015                         3171290   \n",
       "               2016                               0   \n",
       "               2017                               0   \n",
       "               2018                               0   \n",
       "               2019                               0   \n",
       "\n",
       "pesticid_name               Other plant protection products  \n",
       "country_name   TIME_PERIOD                                   \n",
       "Austria        2011                                   58114  \n",
       "               2012                                   43028  \n",
       "               2013                                   80517  \n",
       "               2014                                   46345  \n",
       "               2015                                   43840  \n",
       "...                                                     ...  \n",
       "United Kingdom 2015                                       0  \n",
       "               2016                                       0  \n",
       "               2017                                  270493  \n",
       "               2018                                       0  \n",
       "               2019                                  255061  \n",
       "\n",
       "[288 rows x 6 columns]"
      ]
     },
     "execution_count": 25,
     "metadata": {},
     "output_type": "execute_result"
    }
   ],
   "source": [
    "p_df"
   ]
  },
  {
   "cell_type": "code",
   "execution_count": 26,
   "id": "0f2aa441",
   "metadata": {},
   "outputs": [
    {
     "data": {
      "image/png": "[encoded data removed]",
      "text/plain": [
       "<Figure size 432x288 with 1 Axes>"
      ]
     },
     "metadata": {
      "needs_background": "light"
     },
     "output_type": "display_data"
    }
   ],
   "source": [
    "p_df.plot()\n",
    "plt.xticks(rotation = 45)\n",
    "plt.title(\"Chart\")\n",
    "plt.xlabel('Time period')\n",
    "plt.ylabel('Volume of sales in KG')\n",
    "plt.show()"
   ]
  },
  {
   "cell_type": "code",
   "execution_count": 27,
   "id": "3a1ffdeb",
   "metadata": {},
   "outputs": [
    {
     "data": {
      "text/html": [
       "<div>\n",
       "<style scoped>\n",
       "    .dataframe tbody tr th:only-of-type {\n",
       "        vertical-align: middle;\n",
       "    }\n",
       "\n",
       "    .dataframe tbody tr th {\n",
       "        vertical-align: top;\n",
       "    }\n",
       "\n",
       "    .dataframe thead th {\n",
       "        text-align: right;\n",
       "    }\n",
       "</style>\n",
       "<table border=\"1\" class=\"dataframe\">\n",
       "  <thead>\n",
       "    <tr style=\"text-align: right;\">\n",
       "      <th>pesticid_name</th>\n",
       "      <th>Fungicides and bactericides</th>\n",
       "      <th>Herbicides, haulm destructors and moss killers</th>\n",
       "      <th>Insecticides and acaricides</th>\n",
       "      <th>Molluscicides</th>\n",
       "      <th>Plant growth regulators</th>\n",
       "      <th>Other plant protection products</th>\n",
       "    </tr>\n",
       "    <tr>\n",
       "      <th>pesticid_name</th>\n",
       "      <th></th>\n",
       "      <th></th>\n",
       "      <th></th>\n",
       "      <th></th>\n",
       "      <th></th>\n",
       "      <th></th>\n",
       "    </tr>\n",
       "  </thead>\n",
       "  <tbody>\n",
       "    <tr>\n",
       "      <th>Fungicides and bactericides</th>\n",
       "      <td>1.00</td>\n",
       "      <td>0.76</td>\n",
       "      <td>0.54</td>\n",
       "      <td>0.58</td>\n",
       "      <td>0.43</td>\n",
       "      <td>0.81</td>\n",
       "    </tr>\n",
       "    <tr>\n",
       "      <th>Herbicides, haulm destructors and moss killers</th>\n",
       "      <td>0.76</td>\n",
       "      <td>1.00</td>\n",
       "      <td>0.60</td>\n",
       "      <td>0.79</td>\n",
       "      <td>0.81</td>\n",
       "      <td>0.37</td>\n",
       "    </tr>\n",
       "    <tr>\n",
       "      <th>Insecticides and acaricides</th>\n",
       "      <td>0.54</td>\n",
       "      <td>0.60</td>\n",
       "      <td>1.00</td>\n",
       "      <td>0.42</td>\n",
       "      <td>0.65</td>\n",
       "      <td>0.40</td>\n",
       "    </tr>\n",
       "    <tr>\n",
       "      <th>Molluscicides</th>\n",
       "      <td>0.58</td>\n",
       "      <td>0.79</td>\n",
       "      <td>0.42</td>\n",
       "      <td>1.00</td>\n",
       "      <td>0.69</td>\n",
       "      <td>0.23</td>\n",
       "    </tr>\n",
       "    <tr>\n",
       "      <th>Plant growth regulators</th>\n",
       "      <td>0.43</td>\n",
       "      <td>0.81</td>\n",
       "      <td>0.65</td>\n",
       "      <td>0.69</td>\n",
       "      <td>1.00</td>\n",
       "      <td>0.06</td>\n",
       "    </tr>\n",
       "    <tr>\n",
       "      <th>Other plant protection products</th>\n",
       "      <td>0.81</td>\n",
       "      <td>0.37</td>\n",
       "      <td>0.40</td>\n",
       "      <td>0.23</td>\n",
       "      <td>0.06</td>\n",
       "      <td>1.00</td>\n",
       "    </tr>\n",
       "  </tbody>\n",
       "</table>\n",
       "</div>"
      ],
      "text/plain": [
       "pesticid_name                                   Fungicides and bactericides  \\\n",
       "pesticid_name                                                                 \n",
       "Fungicides and bactericides                                            1.00   \n",
       "Herbicides, haulm destructors and moss killers                         0.76   \n",
       "Insecticides and acaricides                                            0.54   \n",
       "Molluscicides                                                          0.58   \n",
       "Plant growth regulators                                                0.43   \n",
       "Other plant protection products                                        0.81   \n",
       "\n",
       "pesticid_name                                   Herbicides, haulm destructors and moss killers  \\\n",
       "pesticid_name                                                                                    \n",
       "Fungicides and bactericides                                                               0.76   \n",
       "Herbicides, haulm destructors and moss killers                                            1.00   \n",
       "Insecticides and acaricides                                                               0.60   \n",
       "Molluscicides                                                                             0.79   \n",
       "Plant growth regulators                                                                   0.81   \n",
       "Other plant protection products                                                           0.37   \n",
       "\n",
       "pesticid_name                                   Insecticides and acaricides  \\\n",
       "pesticid_name                                                                 \n",
       "Fungicides and bactericides                                            0.54   \n",
       "Herbicides, haulm destructors and moss killers                         0.60   \n",
       "Insecticides and acaricides                                            1.00   \n",
       "Molluscicides                                                          0.42   \n",
       "Plant growth regulators                                                0.65   \n",
       "Other plant protection products                                        0.40   \n",
       "\n",
       "pesticid_name                                   Molluscicides  \\\n",
       "pesticid_name                                                   \n",
       "Fungicides and bactericides                              0.58   \n",
       "Herbicides, haulm destructors and moss killers           0.79   \n",
       "Insecticides and acaricides                              0.42   \n",
       "Molluscicides                                            1.00   \n",
       "Plant growth regulators                                  0.69   \n",
       "Other plant protection products                          0.23   \n",
       "\n",
       "pesticid_name                                   Plant growth regulators  \\\n",
       "pesticid_name                                                             \n",
       "Fungicides and bactericides                                        0.43   \n",
       "Herbicides, haulm destructors and moss killers                     0.81   \n",
       "Insecticides and acaricides                                        0.65   \n",
       "Molluscicides                                                      0.69   \n",
       "Plant growth regulators                                            1.00   \n",
       "Other plant protection products                                    0.06   \n",
       "\n",
       "pesticid_name                                   Other plant protection products  \n",
       "pesticid_name                                                                    \n",
       "Fungicides and bactericides                                                0.81  \n",
       "Herbicides, haulm destructors and moss killers                             0.37  \n",
       "Insecticides and acaricides                                                0.40  \n",
       "Molluscicides                                                              0.23  \n",
       "Plant growth regulators                                                    0.06  \n",
       "Other plant protection products                                            1.00  "
      ]
     },
     "execution_count": 27,
     "metadata": {},
     "output_type": "execute_result"
    }
   ],
   "source": [
    "pd.options.display.float_format = '{:,.2f}'.format\n",
    "p_df.corr()"
   ]
  },
  {
   "cell_type": "code",
   "execution_count": 28,
   "id": "39583084",
   "metadata": {},
   "outputs": [],
   "source": [
    "proportion_train_test = 0.7\n",
    "l = int(proportion_train_test * len(p_df))\n",
    "col = p_df.columns"
   ]
  },
  {
   "cell_type": "code",
   "execution_count": 29,
   "id": "26801bd5",
   "metadata": {},
   "outputs": [],
   "source": [
    "X_train, X_test, y_train, y_test = train_test_split(p_df[col[1:]], p_df[col[0]], test_size=0.3, shuffle=False)"
   ]
  },
  {
   "cell_type": "code",
   "execution_count": 30,
   "id": "2af536d4",
   "metadata": {},
   "outputs": [
    {
     "name": "stdout",
     "output_type": "stream",
     "text": [
      "X_train (201, 5)\n",
      "X_test (87, 5)\n",
      "y_train (201,)\n",
      "y_test (87,)\n"
     ]
    }
   ],
   "source": [
    "print('X_train', X_train.shape)\n",
    "print('X_test',X_test.shape)\n",
    "print('y_train',y_train.shape)\n",
    "print('y_test',y_test.shape)"
   ]
  },
  {
   "cell_type": "code",
   "execution_count": 31,
   "id": "a5a2eced",
   "metadata": {},
   "outputs": [
    {
     "data": {
      "text/html": [
       "<style>#sk-container-id-1 {color: black;background-color: white;}#sk-container-id-1 pre{padding: 0;}#sk-container-id-1 div.sk-toggleable {background-color: white;}#sk-container-id-1 label.sk-toggleable__label {cursor: pointer;display: block;width: 100%;margin-bottom: 0;padding: 0.3em;box-sizing: border-box;text-align: center;}#sk-container-id-1 label.sk-toggleable__label-arrow:before {content: \"▸\";float: left;margin-right: 0.25em;color: #696969;}#sk-container-id-1 label.sk-toggleable__label-arrow:hover:before {color: black;}#sk-container-id-1 div.sk-estimator:hover label.sk-toggleable__label-arrow:before {color: black;}#sk-container-id-1 div.sk-toggleable__content {max-height: 0;max-width: 0;overflow: hidden;text-align: left;background-color: #f0f8ff;}#sk-container-id-1 div.sk-toggleable__content pre {margin: 0.2em;color: black;border-radius: 0.25em;background-color: #f0f8ff;}#sk-container-id-1 input.sk-toggleable__control:checked~div.sk-toggleable__content {max-height: 200px;max-width: 100%;overflow: auto;}#sk-container-id-1 input.sk-toggleable__control:checked~label.sk-toggleable__label-arrow:before {content: \"▾\";}#sk-container-id-1 div.sk-estimator input.sk-toggleable__control:checked~label.sk-toggleable__label {background-color: #d4ebff;}#sk-container-id-1 div.sk-label input.sk-toggleable__control:checked~label.sk-toggleable__label {background-color: #d4ebff;}#sk-container-id-1 input.sk-hidden--visually {border: 0;clip: rect(1px 1px 1px 1px);clip: rect(1px, 1px, 1px, 1px);height: 1px;margin: -1px;overflow: hidden;padding: 0;position: absolute;width: 1px;}#sk-container-id-1 div.sk-estimator {font-family: monospace;background-color: #f0f8ff;border: 1px dotted black;border-radius: 0.25em;box-sizing: border-box;margin-bottom: 0.5em;}#sk-container-id-1 div.sk-estimator:hover {background-color: #d4ebff;}#sk-container-id-1 div.sk-parallel-item::after {content: \"\";width: 100%;border-bottom: 1px solid gray;flex-grow: 1;}#sk-container-id-1 div.sk-label:hover label.sk-toggleable__label {background-color: #d4ebff;}#sk-container-id-1 div.sk-serial::before {content: \"\";position: absolute;border-left: 1px solid gray;box-sizing: border-box;top: 0;bottom: 0;left: 50%;z-index: 0;}#sk-container-id-1 div.sk-serial {display: flex;flex-direction: column;align-items: center;background-color: white;padding-right: 0.2em;padding-left: 0.2em;position: relative;}#sk-container-id-1 div.sk-item {position: relative;z-index: 1;}#sk-container-id-1 div.sk-parallel {display: flex;align-items: stretch;justify-content: center;background-color: white;position: relative;}#sk-container-id-1 div.sk-item::before, #sk-container-id-1 div.sk-parallel-item::before {content: \"\";position: absolute;border-left: 1px solid gray;box-sizing: border-box;top: 0;bottom: 0;left: 50%;z-index: -1;}#sk-container-id-1 div.sk-parallel-item {display: flex;flex-direction: column;z-index: 1;position: relative;background-color: white;}#sk-container-id-1 div.sk-parallel-item:first-child::after {align-self: flex-end;width: 50%;}#sk-container-id-1 div.sk-parallel-item:last-child::after {align-self: flex-start;width: 50%;}#sk-container-id-1 div.sk-parallel-item:only-child::after {width: 0;}#sk-container-id-1 div.sk-dashed-wrapped {border: 1px dashed gray;margin: 0 0.4em 0.5em 0.4em;box-sizing: border-box;padding-bottom: 0.4em;background-color: white;}#sk-container-id-1 div.sk-label label {font-family: monospace;font-weight: bold;display: inline-block;line-height: 1.2em;}#sk-container-id-1 div.sk-label-container {text-align: center;}#sk-container-id-1 div.sk-container {/* jupyter's `normalize.less` sets `[hidden] { display: none; }` but bootstrap.min.css set `[hidden] { display: none !important; }` so we also need the `!important` here to be able to override the default hidden behavior on the sphinx rendered scikit-learn.org. See: https://github.com/scikit-learn/scikit-learn/issues/21755 */display: inline-block !important;position: relative;}#sk-container-id-1 div.sk-text-repr-fallback {display: none;}</style><div id=\"sk-container-id-1\" class=\"sk-top-container\"><div class=\"sk-text-repr-fallback\"><pre>LinearRegression()</pre><b>In a Jupyter environment, please rerun this cell to show the HTML representation or trust the notebook. <br />On GitHub, the HTML representation is unable to render, please try loading this page with nbviewer.org.</b></div><div class=\"sk-container\" hidden><div class=\"sk-item\"><div class=\"sk-estimator sk-toggleable\"><input class=\"sk-toggleable__control sk-hidden--visually\" id=\"sk-estimator-id-1\" type=\"checkbox\" checked><label for=\"sk-estimator-id-1\" class=\"sk-toggleable__label sk-toggleable__label-arrow\">LinearRegression</label><div class=\"sk-toggleable__content\"><pre>LinearRegression()</pre></div></div></div></div></div>"
      ],
      "text/plain": [
       "LinearRegression()"
      ]
     },
     "execution_count": 31,
     "metadata": {},
     "output_type": "execute_result"
    }
   ],
   "source": [
    "lin_model = LinearRegression()\n",
    "lin_model.fit(X_train,y_train)"
   ]
  },
  {
   "cell_type": "code",
   "execution_count": 32,
   "id": "2eaa77b5",
   "metadata": {},
   "outputs": [],
   "source": [
    "y_pred_test = lin_model.predict(X_test)\n",
    "y_pred_train = lin_model.predict(X_train)"
   ]
  },
  {
   "cell_type": "code",
   "execution_count": 33,
   "id": "22e89101",
   "metadata": {},
   "outputs": [
    {
     "name": "stdout",
     "output_type": "stream",
     "text": [
      "Score train : 0.9625862760904372\n",
      "Score test : 0.6888681049525145\n",
      "Coefficients : [ 0.79232453  0.14383752  7.98578085 -1.58666929  2.12375616]\n",
      "Herbicides, haulm destructors and moss killers : 0.7923245331894\n",
      "Insecticides and acaricides : 0.14383751668946285\n",
      "Molluscicides : 7.985780854705407\n",
      "Plant growth regulators : -1.5866692946920788\n",
      "Other plant protection products : 2.1237561641699867\n",
      "Intercept : -188738.78613399062\n",
      "Mean absolute error (train) : 1032241.3884064512\n",
      "Mean absolute error (test) : 2720115.1020331928\n",
      "Mean Squared Error (train) : 3225638565885.0356\n",
      "Mean Squared error (test) : 34849571028214.45\n",
      "Root Mean Squared Error (train) : 1796006.2822509937\n",
      "Root Mean Squared error (test) : 5903352.524474076\n"
     ]
    }
   ],
   "source": [
    "print(\"Score train :\", lin_model.score(X_train, y_train))\n",
    "print(\"Score test :\", lin_model.score(X_test, y_test))\n",
    "print(\"Coefficients :\", lin_model.coef_)\n",
    "for s in zip(col[1:], lin_model.coef_):\n",
    "    print(s[0], \":\", s[1])\n",
    "print(\"Intercept :\", lin_model.intercept_)\n",
    "print(\"Mean absolute error (train) :\", metrics.mean_absolute_error(y_train, y_pred_train))\n",
    "print(\"Mean absolute error (test) :\", metrics.mean_absolute_error(y_test, y_pred_test))\n",
    "print(\"Mean Squared Error (train) :\", metrics.mean_squared_error(y_train, y_pred_train))\n",
    "print(\"Mean Squared error (test) :\", metrics.mean_squared_error(y_test, y_pred_test))\n",
    "print(\"Root Mean Squared Error (train) :\", np.sqrt(metrics.mean_squared_error(y_train, y_pred_train)))\n",
    "print(\"Root Mean Squared error (test) :\", np.sqrt(metrics.mean_squared_error(y_test, y_pred_test)))"
   ]
  },
  {
   "cell_type": "code",
   "execution_count": 34,
   "id": "51840a2b",
   "metadata": {},
   "outputs": [
    {
     "name": "stdout",
     "output_type": "stream",
     "text": [
      "                                     OLS Regression Results                                     \n",
      "================================================================================================\n",
      "Dep. Variable:     Fungicides and bactericides   R-squared (uncentered):                   0.970\n",
      "Model:                                     OLS   Adj. R-squared (uncentered):              0.969\n",
      "Method:                          Least Squares   F-statistic:                              1248.\n",
      "Date:                         Tue, 04 Apr 2023   Prob (F-statistic):                   1.74e-146\n",
      "Time:                                 15:35:12   Log-Likelihood:                         -3180.6\n",
      "No. Observations:                          201   AIC:                                      6371.\n",
      "Df Residuals:                              196   BIC:                                      6388.\n",
      "Df Model:                                    5                                                  \n",
      "Covariance Type:                     nonrobust                                                  \n",
      "==================================================================================================================\n",
      "                                                     coef    std err          t      P>|t|      [0.025      0.975]\n",
      "------------------------------------------------------------------------------------------------------------------\n",
      "Herbicides, haulm destructors and moss killers     0.7732      0.069     11.127      0.000       0.636       0.910\n",
      "Insecticides and acaricides                        0.1520      0.076      1.990      0.048       0.001       0.303\n",
      "Molluscicides                                      8.6694      1.861      4.659      0.000       4.999      12.339\n",
      "Plant growth regulators                           -1.6382      0.555     -2.954      0.004      -2.732      -0.544\n",
      "Other plant protection products                    2.1155      0.055     38.449      0.000       2.007       2.224\n",
      "==============================================================================\n",
      "Omnibus:                       52.085   Durbin-Watson:                   1.047\n",
      "Prob(Omnibus):                  0.000   Jarque-Bera (JB):             1158.183\n",
      "Skew:                           0.031   Prob(JB):                    3.19e-252\n",
      "Kurtosis:                      14.760   Cond. No.                         118.\n",
      "==============================================================================\n",
      "\n",
      "Notes:\n",
      "[1] R² is computed without centering (uncentered) since the model does not contain a constant.\n",
      "[2] Standard Errors assume that the covariance matrix of the errors is correctly specified.\n"
     ]
    }
   ],
   "source": [
    "model = sm.OLS(y_train, X_train)\n",
    "results = model.fit()\n",
    "y_pred_test_OLS = results.predict(X_test)\n",
    "y_pred_train_OLS = results.predict(X_train)\n",
    "print(results.summary())"
   ]
  },
  {
   "cell_type": "code",
   "execution_count": 35,
   "id": "c3fc09fa",
   "metadata": {},
   "outputs": [
    {
     "name": "stdout",
     "output_type": "stream",
     "text": [
      "coefficient of determination: 0.9695510214809883\n",
      "adjusted coefficient of determination: 0.968774261824891\n",
      "regression coefficients:\n",
      "Herbicides, haulm destructors and moss killers    0.77\n",
      "Insecticides and acaricides                       0.15\n",
      "Molluscicides                                     8.67\n",
      "Plant growth regulators                          -1.64\n",
      "Other plant protection products                   2.12\n",
      "dtype: float64\n"
     ]
    }
   ],
   "source": [
    "print('coefficient of determination:', results.rsquared)\n",
    "print('adjusted coefficient of determination:', results.rsquared_adj)\n",
    "print('regression coefficients:', results.params, sep = '\\n')"
   ]
  },
  {
   "cell_type": "code",
   "execution_count": 36,
   "id": "bdd7c831",
   "metadata": {},
   "outputs": [
    {
     "data": {
      "text/html": [
       "<div>\n",
       "<style scoped>\n",
       "    .dataframe tbody tr th:only-of-type {\n",
       "        vertical-align: middle;\n",
       "    }\n",
       "\n",
       "    .dataframe tbody tr th {\n",
       "        vertical-align: top;\n",
       "    }\n",
       "\n",
       "    .dataframe thead th {\n",
       "        text-align: right;\n",
       "    }\n",
       "</style>\n",
       "<table border=\"1\" class=\"dataframe\">\n",
       "  <thead>\n",
       "    <tr style=\"text-align: right;\">\n",
       "      <th></th>\n",
       "      <th></th>\n",
       "      <th>Actual train</th>\n",
       "      <th>Predicted_train</th>\n",
       "      <th>Predicted_train_OLS</th>\n",
       "      <th>Actual_test</th>\n",
       "      <th>Predicted_test</th>\n",
       "      <th>Predicted_test_OLS</th>\n",
       "    </tr>\n",
       "    <tr>\n",
       "      <th>country_name</th>\n",
       "      <th>TIME_PERIOD</th>\n",
       "      <th></th>\n",
       "      <th></th>\n",
       "      <th></th>\n",
       "      <th></th>\n",
       "      <th></th>\n",
       "      <th></th>\n",
       "    </tr>\n",
       "  </thead>\n",
       "  <tbody>\n",
       "    <tr>\n",
       "      <th rowspan=\"5\" valign=\"top\">Austria</th>\n",
       "      <th>2011</th>\n",
       "      <td>1,544,218.00</td>\n",
       "      <td>1,335,677.58</td>\n",
       "      <td>1,516,917.57</td>\n",
       "      <td>NaN</td>\n",
       "      <td>NaN</td>\n",
       "      <td>NaN</td>\n",
       "    </tr>\n",
       "    <tr>\n",
       "      <th>2012</th>\n",
       "      <td>1,634,371.00</td>\n",
       "      <td>1,243,499.21</td>\n",
       "      <td>1,416,984.06</td>\n",
       "      <td>NaN</td>\n",
       "      <td>NaN</td>\n",
       "      <td>NaN</td>\n",
       "    </tr>\n",
       "    <tr>\n",
       "      <th>2013</th>\n",
       "      <td>1,492,799.00</td>\n",
       "      <td>1,024,288.82</td>\n",
       "      <td>1,197,669.29</td>\n",
       "      <td>NaN</td>\n",
       "      <td>NaN</td>\n",
       "      <td>NaN</td>\n",
       "    </tr>\n",
       "    <tr>\n",
       "      <th>2014</th>\n",
       "      <td>1,641,055.00</td>\n",
       "      <td>1,078,618.07</td>\n",
       "      <td>1,250,880.79</td>\n",
       "      <td>NaN</td>\n",
       "      <td>NaN</td>\n",
       "      <td>NaN</td>\n",
       "    </tr>\n",
       "    <tr>\n",
       "      <th>2015</th>\n",
       "      <td>2,130,973.00</td>\n",
       "      <td>1,036,544.55</td>\n",
       "      <td>1,212,244.93</td>\n",
       "      <td>NaN</td>\n",
       "      <td>NaN</td>\n",
       "      <td>NaN</td>\n",
       "    </tr>\n",
       "    <tr>\n",
       "      <th>...</th>\n",
       "      <th>...</th>\n",
       "      <td>...</td>\n",
       "      <td>...</td>\n",
       "      <td>...</td>\n",
       "      <td>...</td>\n",
       "      <td>...</td>\n",
       "      <td>...</td>\n",
       "    </tr>\n",
       "    <tr>\n",
       "      <th rowspan=\"5\" valign=\"top\">United Kingdom</th>\n",
       "      <th>2015</th>\n",
       "      <td>NaN</td>\n",
       "      <td>NaN</td>\n",
       "      <td>NaN</td>\n",
       "      <td>6,032,359.00</td>\n",
       "      <td>3,957,038.46</td>\n",
       "      <td>3,768,210.15</td>\n",
       "    </tr>\n",
       "    <tr>\n",
       "      <th>2016</th>\n",
       "      <td>NaN</td>\n",
       "      <td>NaN</td>\n",
       "      <td>NaN</td>\n",
       "      <td>5,330,003.00</td>\n",
       "      <td>7,634,222.77</td>\n",
       "      <td>7,637,855.95</td>\n",
       "    </tr>\n",
       "    <tr>\n",
       "      <th>2017</th>\n",
       "      <td>NaN</td>\n",
       "      <td>NaN</td>\n",
       "      <td>NaN</td>\n",
       "      <td>5,484,053.00</td>\n",
       "      <td>8,119,198.28</td>\n",
       "      <td>8,123,750.43</td>\n",
       "    </tr>\n",
       "    <tr>\n",
       "      <th>2018</th>\n",
       "      <td>NaN</td>\n",
       "      <td>NaN</td>\n",
       "      <td>NaN</td>\n",
       "      <td>4,492,460.00</td>\n",
       "      <td>8,460,127.02</td>\n",
       "      <td>8,441,275.87</td>\n",
       "    </tr>\n",
       "    <tr>\n",
       "      <th>2019</th>\n",
       "      <td>NaN</td>\n",
       "      <td>NaN</td>\n",
       "      <td>NaN</td>\n",
       "      <td>6,056,984.00</td>\n",
       "      <td>8,221,924.85</td>\n",
       "      <td>8,220,913.23</td>\n",
       "    </tr>\n",
       "  </tbody>\n",
       "</table>\n",
       "<p>288 rows × 6 columns</p>\n",
       "</div>"
      ],
      "text/plain": [
       "                            Actual train  Predicted_train  \\\n",
       "country_name   TIME_PERIOD                                  \n",
       "Austria        2011         1,544,218.00     1,335,677.58   \n",
       "               2012         1,634,371.00     1,243,499.21   \n",
       "               2013         1,492,799.00     1,024,288.82   \n",
       "               2014         1,641,055.00     1,078,618.07   \n",
       "               2015         2,130,973.00     1,036,544.55   \n",
       "...                                  ...              ...   \n",
       "United Kingdom 2015                  NaN              NaN   \n",
       "               2016                  NaN              NaN   \n",
       "               2017                  NaN              NaN   \n",
       "               2018                  NaN              NaN   \n",
       "               2019                  NaN              NaN   \n",
       "\n",
       "                            Predicted_train_OLS  Actual_test  Predicted_test  \\\n",
       "country_name   TIME_PERIOD                                                     \n",
       "Austria        2011                1,516,917.57          NaN             NaN   \n",
       "               2012                1,416,984.06          NaN             NaN   \n",
       "               2013                1,197,669.29          NaN             NaN   \n",
       "               2014                1,250,880.79          NaN             NaN   \n",
       "               2015                1,212,244.93          NaN             NaN   \n",
       "...                                         ...          ...             ...   \n",
       "United Kingdom 2015                         NaN 6,032,359.00    3,957,038.46   \n",
       "               2016                         NaN 5,330,003.00    7,634,222.77   \n",
       "               2017                         NaN 5,484,053.00    8,119,198.28   \n",
       "               2018                         NaN 4,492,460.00    8,460,127.02   \n",
       "               2019                         NaN 6,056,984.00    8,221,924.85   \n",
       "\n",
       "                            Predicted_test_OLS  \n",
       "country_name   TIME_PERIOD                      \n",
       "Austria        2011                        NaN  \n",
       "               2012                        NaN  \n",
       "               2013                        NaN  \n",
       "               2014                        NaN  \n",
       "               2015                        NaN  \n",
       "...                                        ...  \n",
       "United Kingdom 2015               3,768,210.15  \n",
       "               2016               7,637,855.95  \n",
       "               2017               8,123,750.43  \n",
       "               2018               8,441,275.87  \n",
       "               2019               8,220,913.23  \n",
       "\n",
       "[288 rows x 6 columns]"
      ]
     },
     "execution_count": 36,
     "metadata": {},
     "output_type": "execute_result"
    }
   ],
   "source": [
    "df_test = pd.DataFrame({'Actual_test': y_test, 'Predicted_test': y_pred_test, 'Predicted_test_OLS':y_pred_test_OLS})\n",
    "df_train = pd.DataFrame({'Actual train': y_train, 'Predicted_train': y_pred_train, 'Predicted_train_OLS': y_pred_train_OLS})\n",
    "df_result = df_train.join(df_test, how = 'outer')\n",
    "df_result"
   ]
  },
  {
   "cell_type": "code",
   "execution_count": 37,
   "id": "5a426838",
   "metadata": {},
   "outputs": [
    {
     "data": {
      "image/png": "[encoded data removed]",
      "text/plain": [
       "<Figure size 432x288 with 1 Axes>"
      ]
     },
     "metadata": {
      "needs_background": "light"
     },
     "output_type": "display_data"
    }
   ],
   "source": [
    "df_result[['Actual_test', 'Predicted_test','Predicted_test_OLS']].plot()\n",
    "plt.xticks(rotation=45)\n",
    "plt.show()"
   ]
  },
  {
   "cell_type": "code",
   "execution_count": 38,
   "id": "73506f33",
   "metadata": {},
   "outputs": [
    {
     "data": {
      "image/png": "[encoded data removed]",
      "text/plain": [
       "<Figure size 576x576 with 1 Axes>"
      ]
     },
     "metadata": {
      "needs_background": "light"
     },
     "output_type": "display_data"
    }
   ],
   "source": [
    "sns.pairplot(df_test, x_vars = ['Actual_test'], y_vars = 'Predicted_test', kind = 'reg', height = 8)\n",
    "plt.show()"
   ]
  },
  {
   "cell_type": "markdown",
   "id": "5722e417",
   "metadata": {},
   "source": [
    "linear model for the above data and the hypothesis provides bad forecast quality. \n",
    "So build a non linear model based on neural network to check the forecast quality."
   ]
  },
  {
   "cell_type": "markdown",
   "id": "bf31763d",
   "metadata": {},
   "source": [
    "multi layer perceptron with 2 hidden layers\n",
    "\n",
    "using sklearn MLPRegressor"
   ]
  },
  {
   "cell_type": "code",
   "execution_count": 39,
   "id": "8808ba61",
   "metadata": {},
   "outputs": [],
   "source": [
    "model = MLPRegressor(random_state = 42, max_iter =500)\n",
    "model.fit(X_train, y_train)\n",
    "y_pred_train_MLP = model.predict(X_train)\n",
    "y_pred_test_MLP = model.predict(X_test)"
   ]
  },
  {
   "cell_type": "code",
   "execution_count": 40,
   "id": "a2ef0d7a",
   "metadata": {},
   "outputs": [
    {
     "name": "stdout",
     "output_type": "stream",
     "text": [
      "Score train : 0.944678279073417\n",
      "Score test : 0.8084244535845815\n",
      "Mean absolute error (train) : 1032241.3884064512\n",
      "Mean absolute error (test) : 2720115.1020331928\n",
      "Mean Squared Error (train) : 3225638565885.0356\n",
      "Mean Squared error (test) : 34849571028214.45\n",
      "Root Mean Squared Error (train) : 1796006.2822509937\n",
      "Root Mean Squared error (test) : 5903352.524474076\n"
     ]
    }
   ],
   "source": [
    "print(\"Score train :\", model.score(X_train, y_train))\n",
    "print(\"Score test :\", model.score(X_test, y_test))\n",
    "\n",
    "print(\"Mean absolute error (train) :\", metrics.mean_absolute_error(y_train, y_pred_train))\n",
    "print(\"Mean absolute error (test) :\", metrics.mean_absolute_error(y_test, y_pred_test))\n",
    "print(\"Mean Squared Error (train) :\", metrics.mean_squared_error(y_train, y_pred_train))\n",
    "print(\"Mean Squared error (test) :\", metrics.mean_squared_error(y_test, y_pred_test))\n",
    "print(\"Root Mean Squared Error (train) :\", np.sqrt(metrics.mean_squared_error(y_train, y_pred_train)))\n",
    "print(\"Root Mean Squared error (test) :\", np.sqrt(metrics.mean_squared_error(y_test, y_pred_test)))"
   ]
  },
  {
   "cell_type": "markdown",
   "id": "1d3717e2",
   "metadata": {},
   "source": [
    "before using keras, normalize the data"
   ]
  },
  {
   "cell_type": "code",
   "execution_count": 41,
   "id": "43d066b1",
   "metadata": {},
   "outputs": [],
   "source": [
    "scaler_X_train = MinMaxScaler(feature_range = (0,1))\n",
    "scaler_y_train = MinMaxScaler(feature_range = (0,1))\n",
    "scaler_X_test = MinMaxScaler(feature_range=(0,1))\n",
    "scaler_y_test = MinMaxScaler(feature_range=(0,1))\n",
    "\n",
    "scaled_X_train = scaler_X_train.fit_transform(X_train.astype('float64'))\n",
    "scaled_y_train = scaler_y_train.fit_transform(y_train.astype('float64').values.reshape(-1,1))\n",
    "scaled_X_test = scaler_X_test.fit_transform(X_test.astype('float64'))\n",
    "scaled_y_test = scaler_y_test.fit_transform(y_test.astype('float64').values.reshape(-1,1))"
   ]
  },
  {
   "cell_type": "code",
   "execution_count": 42,
   "id": "a75b2d6d",
   "metadata": {},
   "outputs": [],
   "source": [
    "def BP_model(X):\n",
    "    model = Sequential()\n",
    "    model.add(Dense(100, input_dim=X.shape[1], \n",
    "                    kernel_initializer = 'normal', \n",
    "                    activation = 'relu'))\n",
    "    model.add(Dropout(0.2))\n",
    "    model.add(Dense(100, kernel_initializer = 'normal',\n",
    "                   activation = 'relu'))\n",
    "    model.add(Dropout(0.2))\n",
    "    model.add(Dense(1, kernel_initializer = 'normal'))\n",
    "    model.compile(loss = 'mean_squared_error', optimizer = 'adam')\n",
    "    return model"
   ]
  },
  {
   "cell_type": "code",
   "execution_count": 43,
   "id": "6305ae52",
   "metadata": {},
   "outputs": [
    {
     "name": "stderr",
     "output_type": "stream",
     "text": [
      "C:\\Users\\ADMIN\\AppData\\Local\\Temp/ipykernel_13852/2199961100.py:3: DeprecationWarning: KerasRegressor is deprecated, use Sci-Keras (https://github.com/adriangb/scikeras) instead. See https://www.adriangb.com/scikeras/stable/migration.html for help migrating.\n",
      "  estimator = KerasRegressor(build_fn=BP_model, X = scaled_X_train, epochs = epochs, batch_size = batch_size, verbose = 0)\n"
     ]
    }
   ],
   "source": [
    "epochs = 10\n",
    "batch_size = int(y_train.shape[0]*.1)\n",
    "estimator = KerasRegressor(build_fn=BP_model, X = scaled_X_train, epochs = epochs, batch_size = batch_size, verbose = 0)"
   ]
  },
  {
   "cell_type": "code",
   "execution_count": 44,
   "id": "d490847b",
   "metadata": {},
   "outputs": [],
   "source": [
    "history=estimator.fit(scaled_X_train, scaled_y_train, validation_data=(scaled_X_test, scaled_y_test))"
   ]
  },
  {
   "cell_type": "code",
   "execution_count": 45,
   "id": "9ecc50ce",
   "metadata": {},
   "outputs": [
    {
     "name": "stdout",
     "output_type": "stream",
     "text": [
      "Saved model to disk\n",
      "Loaded model from disk\n"
     ]
    },
    {
     "name": "stderr",
     "output_type": "stream",
     "text": [
      "C:\\Users\\ADMIN\\AppData\\Local\\Temp/ipykernel_13852/3166226470.py:18: DeprecationWarning: KerasRegressor is deprecated, use Sci-Keras (https://github.com/adriangb/scikeras) instead. See https://www.adriangb.com/scikeras/stable/migration.html for help migrating.\n",
      "  estimator = KerasRegressor(build_fn=BP_model, X=scaled_X_train, epochs=epochs, batch_size=batch_size, verbose=0)\n"
     ]
    }
   ],
   "source": [
    "fitting = True\n",
    "fitting_save = True\n",
    "\n",
    "\n",
    "import pickle\n",
    "\n",
    "if fitting:\n",
    "    history=estimator.fit(scaled_X_train, scaled_y_train, validation_data=(scaled_X_test, scaled_y_test))\n",
    "    if fitting_save:\n",
    "        estimator.model.save('BP_saved_model.h5')\n",
    "        print(\"Saved model to disk\")\n",
    "        with open('history.pickle', 'wb') as f:\n",
    "            pickle.dump(history.history, f)\n",
    "# load model \n",
    "from keras.models import load_model\n",
    "\n",
    "# Instantiate the model as you please (we are not going to use this)\n",
    "estimator = KerasRegressor(build_fn=BP_model, X=scaled_X_train, epochs=epochs, batch_size=batch_size, verbose=0)\n",
    "# This is where you load the actual saved model into a new variable.\n",
    "estimator.model = load_model('BP_saved_model.h5')    \n",
    "with open('history.pickle', 'rb') as f:\n",
    "    history = pickle.load(f)\n",
    "print(\"Loaded model from disk\")"
   ]
  },
  {
   "cell_type": "code",
   "execution_count": 46,
   "id": "8861afc5",
   "metadata": {},
   "outputs": [
    {
     "data": {
      "image/png": "[encoded data removed]",
      "text/plain": [
       "<Figure size 432x288 with 1 Axes>"
      ]
     },
     "metadata": {
      "needs_background": "light"
     },
     "output_type": "display_data"
    }
   ],
   "source": [
    "plt.figure()\n",
    "plt.plot(history['loss'], label = 'train')\n",
    "plt.plot(history['val_loss'], label = 'test')\n",
    "plt.ylabel('loss')\n",
    "plt.xlabel('epoch')\n",
    "plt.legend()\n",
    "plt.show()"
   ]
  },
  {
   "cell_type": "code",
   "execution_count": 47,
   "id": "3b9e68d7",
   "metadata": {},
   "outputs": [],
   "source": [
    "res_train = estimator.predict(scaled_X_train)\n",
    "res_test = estimator.predict(scaled_X_test)\n",
    "res_train_ANN = scaler_y_train.inverse_transform(res_train.reshape(-1,1)).flatten()\n",
    "res_test_ANN =scaler_y_test.inverse_transform(res_test.reshape(-1,1)).flatten()"
   ]
  },
  {
   "cell_type": "code",
   "execution_count": 48,
   "id": "825013b7",
   "metadata": {},
   "outputs": [
    {
     "name": "stdout",
     "output_type": "stream",
     "text": [
      "Correlation train 0.9645258193972333\n",
      "Correlation test 0.9323618849060646\n",
      "Mean Absolute Error (train): 998715.269278607\n",
      "Mean Absolute Error (test): 3696292.9727011495\n",
      "Mean Squared Error (train): 3385287901975.716\n",
      "Mean Squared Error (test): 39362071294471.6\n",
      "Root Mean Squared Error (train): 1839915.1887996674\n",
      "Root Mean Squared Error (test): 6273919.930511674\n"
     ]
    }
   ],
   "source": [
    "print(\"Correlation train\", model.score(X_train, res_train_ANN))\n",
    "print(\"Correlation test\", model.score(X_test, res_test_ANN))\n",
    "\n",
    "print('Mean Absolute Error (train):', metrics.mean_absolute_error(y_train, res_train_ANN))\n",
    "print('Mean Absolute Error (test):', metrics.mean_absolute_error(y_test, res_test_ANN))\n",
    "print('Mean Squared Error (train):', metrics.mean_squared_error(y_train, res_train_ANN))\n",
    "print('Mean Squared Error (test):', metrics.mean_squared_error(y_test, res_test_ANN))\n",
    "print('Root Mean Squared Error (train):', np.sqrt(metrics.mean_squared_error(y_train, res_train_ANN)))\n",
    "print('Root Mean Squared Error (test):', np.sqrt(metrics.mean_squared_error(y_test, res_test_ANN)))"
   ]
  },
  {
   "cell_type": "code",
   "execution_count": 49,
   "id": "cfc200bb",
   "metadata": {},
   "outputs": [
    {
     "data": {
      "text/html": [
       "<div>\n",
       "<style scoped>\n",
       "    .dataframe tbody tr th:only-of-type {\n",
       "        vertical-align: middle;\n",
       "    }\n",
       "\n",
       "    .dataframe tbody tr th {\n",
       "        vertical-align: top;\n",
       "    }\n",
       "\n",
       "    .dataframe thead th {\n",
       "        text-align: right;\n",
       "    }\n",
       "</style>\n",
       "<table border=\"1\" class=\"dataframe\">\n",
       "  <thead>\n",
       "    <tr style=\"text-align: right;\">\n",
       "      <th></th>\n",
       "      <th></th>\n",
       "      <th>Actual_train</th>\n",
       "      <th>Predicted_train</th>\n",
       "      <th>Predicted_train_MLP</th>\n",
       "      <th>Predicted_train_ANN</th>\n",
       "      <th>Actual_test</th>\n",
       "      <th>Predicted_test</th>\n",
       "      <th>Predicted_test_MLP</th>\n",
       "      <th>Predicted_test_ANN</th>\n",
       "    </tr>\n",
       "    <tr>\n",
       "      <th>country_name</th>\n",
       "      <th>TIME_PERIOD</th>\n",
       "      <th></th>\n",
       "      <th></th>\n",
       "      <th></th>\n",
       "      <th></th>\n",
       "      <th></th>\n",
       "      <th></th>\n",
       "      <th></th>\n",
       "      <th></th>\n",
       "    </tr>\n",
       "  </thead>\n",
       "  <tbody>\n",
       "    <tr>\n",
       "      <th rowspan=\"5\" valign=\"top\">Austria</th>\n",
       "      <th>2011</th>\n",
       "      <td>1,544,218.00</td>\n",
       "      <td>1,335,677.58</td>\n",
       "      <td>1,232,708.74</td>\n",
       "      <td>907,790.19</td>\n",
       "      <td>NaN</td>\n",
       "      <td>NaN</td>\n",
       "      <td>NaN</td>\n",
       "      <td>NaN</td>\n",
       "    </tr>\n",
       "    <tr>\n",
       "      <th>2012</th>\n",
       "      <td>1,634,371.00</td>\n",
       "      <td>1,243,499.21</td>\n",
       "      <td>1,226,787.98</td>\n",
       "      <td>829,495.25</td>\n",
       "      <td>NaN</td>\n",
       "      <td>NaN</td>\n",
       "      <td>NaN</td>\n",
       "      <td>NaN</td>\n",
       "    </tr>\n",
       "    <tr>\n",
       "      <th>2013</th>\n",
       "      <td>1,492,799.00</td>\n",
       "      <td>1,024,288.82</td>\n",
       "      <td>1,046,969.30</td>\n",
       "      <td>746,659.25</td>\n",
       "      <td>NaN</td>\n",
       "      <td>NaN</td>\n",
       "      <td>NaN</td>\n",
       "      <td>NaN</td>\n",
       "    </tr>\n",
       "    <tr>\n",
       "      <th>2014</th>\n",
       "      <td>1,641,055.00</td>\n",
       "      <td>1,078,618.07</td>\n",
       "      <td>1,100,759.33</td>\n",
       "      <td>757,342.56</td>\n",
       "      <td>NaN</td>\n",
       "      <td>NaN</td>\n",
       "      <td>NaN</td>\n",
       "      <td>NaN</td>\n",
       "    </tr>\n",
       "    <tr>\n",
       "      <th>2015</th>\n",
       "      <td>2,130,973.00</td>\n",
       "      <td>1,036,544.55</td>\n",
       "      <td>1,060,091.41</td>\n",
       "      <td>759,339.06</td>\n",
       "      <td>NaN</td>\n",
       "      <td>NaN</td>\n",
       "      <td>NaN</td>\n",
       "      <td>NaN</td>\n",
       "    </tr>\n",
       "    <tr>\n",
       "      <th>...</th>\n",
       "      <th>...</th>\n",
       "      <td>...</td>\n",
       "      <td>...</td>\n",
       "      <td>...</td>\n",
       "      <td>...</td>\n",
       "      <td>...</td>\n",
       "      <td>...</td>\n",
       "      <td>...</td>\n",
       "      <td>...</td>\n",
       "    </tr>\n",
       "    <tr>\n",
       "      <th rowspan=\"5\" valign=\"top\">United Kingdom</th>\n",
       "      <th>2015</th>\n",
       "      <td>NaN</td>\n",
       "      <td>NaN</td>\n",
       "      <td>NaN</td>\n",
       "      <td>NaN</td>\n",
       "      <td>6,032,359.00</td>\n",
       "      <td>3,957,038.46</td>\n",
       "      <td>8,755,247.49</td>\n",
       "      <td>13,243,215.00</td>\n",
       "    </tr>\n",
       "    <tr>\n",
       "      <th>2016</th>\n",
       "      <td>NaN</td>\n",
       "      <td>NaN</td>\n",
       "      <td>NaN</td>\n",
       "      <td>NaN</td>\n",
       "      <td>5,330,003.00</td>\n",
       "      <td>7,634,222.77</td>\n",
       "      <td>7,188,145.70</td>\n",
       "      <td>9,492,740.00</td>\n",
       "    </tr>\n",
       "    <tr>\n",
       "      <th>2017</th>\n",
       "      <td>NaN</td>\n",
       "      <td>NaN</td>\n",
       "      <td>NaN</td>\n",
       "      <td>NaN</td>\n",
       "      <td>5,484,053.00</td>\n",
       "      <td>8,119,198.28</td>\n",
       "      <td>7,512,683.56</td>\n",
       "      <td>9,735,166.00</td>\n",
       "    </tr>\n",
       "    <tr>\n",
       "      <th>2018</th>\n",
       "      <td>NaN</td>\n",
       "      <td>NaN</td>\n",
       "      <td>NaN</td>\n",
       "      <td>NaN</td>\n",
       "      <td>4,492,460.00</td>\n",
       "      <td>8,460,127.02</td>\n",
       "      <td>7,989,058.45</td>\n",
       "      <td>10,687,954.00</td>\n",
       "    </tr>\n",
       "    <tr>\n",
       "      <th>2019</th>\n",
       "      <td>NaN</td>\n",
       "      <td>NaN</td>\n",
       "      <td>NaN</td>\n",
       "      <td>NaN</td>\n",
       "      <td>6,056,984.00</td>\n",
       "      <td>8,221,924.85</td>\n",
       "      <td>7,647,681.46</td>\n",
       "      <td>9,941,170.00</td>\n",
       "    </tr>\n",
       "  </tbody>\n",
       "</table>\n",
       "<p>288 rows × 8 columns</p>\n",
       "</div>"
      ],
      "text/plain": [
       "                            Actual_train  Predicted_train  \\\n",
       "country_name   TIME_PERIOD                                  \n",
       "Austria        2011         1,544,218.00     1,335,677.58   \n",
       "               2012         1,634,371.00     1,243,499.21   \n",
       "               2013         1,492,799.00     1,024,288.82   \n",
       "               2014         1,641,055.00     1,078,618.07   \n",
       "               2015         2,130,973.00     1,036,544.55   \n",
       "...                                  ...              ...   \n",
       "United Kingdom 2015                  NaN              NaN   \n",
       "               2016                  NaN              NaN   \n",
       "               2017                  NaN              NaN   \n",
       "               2018                  NaN              NaN   \n",
       "               2019                  NaN              NaN   \n",
       "\n",
       "                            Predicted_train_MLP  Predicted_train_ANN  \\\n",
       "country_name   TIME_PERIOD                                             \n",
       "Austria        2011                1,232,708.74           907,790.19   \n",
       "               2012                1,226,787.98           829,495.25   \n",
       "               2013                1,046,969.30           746,659.25   \n",
       "               2014                1,100,759.33           757,342.56   \n",
       "               2015                1,060,091.41           759,339.06   \n",
       "...                                         ...                  ...   \n",
       "United Kingdom 2015                         NaN                  NaN   \n",
       "               2016                         NaN                  NaN   \n",
       "               2017                         NaN                  NaN   \n",
       "               2018                         NaN                  NaN   \n",
       "               2019                         NaN                  NaN   \n",
       "\n",
       "                            Actual_test  Predicted_test  Predicted_test_MLP  \\\n",
       "country_name   TIME_PERIOD                                                    \n",
       "Austria        2011                 NaN             NaN                 NaN   \n",
       "               2012                 NaN             NaN                 NaN   \n",
       "               2013                 NaN             NaN                 NaN   \n",
       "               2014                 NaN             NaN                 NaN   \n",
       "               2015                 NaN             NaN                 NaN   \n",
       "...                                 ...             ...                 ...   \n",
       "United Kingdom 2015        6,032,359.00    3,957,038.46        8,755,247.49   \n",
       "               2016        5,330,003.00    7,634,222.77        7,188,145.70   \n",
       "               2017        5,484,053.00    8,119,198.28        7,512,683.56   \n",
       "               2018        4,492,460.00    8,460,127.02        7,989,058.45   \n",
       "               2019        6,056,984.00    8,221,924.85        7,647,681.46   \n",
       "\n",
       "                            Predicted_test_ANN  \n",
       "country_name   TIME_PERIOD                      \n",
       "Austria        2011                        NaN  \n",
       "               2012                        NaN  \n",
       "               2013                        NaN  \n",
       "               2014                        NaN  \n",
       "               2015                        NaN  \n",
       "...                                        ...  \n",
       "United Kingdom 2015              13,243,215.00  \n",
       "               2016               9,492,740.00  \n",
       "               2017               9,735,166.00  \n",
       "               2018              10,687,954.00  \n",
       "               2019               9,941,170.00  \n",
       "\n",
       "[288 rows x 8 columns]"
      ]
     },
     "execution_count": 49,
     "metadata": {},
     "output_type": "execute_result"
    }
   ],
   "source": [
    "df_test = pd.DataFrame({'Actual_test':y_test, 'Predicted_test': y_pred_test, 'Predicted_test_MLP': y_pred_test_MLP, 'Predicted_test_ANN': res_test_ANN})\n",
    "df_train = pd.DataFrame({'Actual_train':y_train, 'Predicted_train': y_pred_train, 'Predicted_train_MLP': y_pred_train_MLP, 'Predicted_train_ANN': res_train_ANN})\n",
    "df_res = df_train.join(df_test, how = 'outer')\n",
    "df_res"
   ]
  },
  {
   "cell_type": "code",
   "execution_count": 50,
   "id": "8f48d4d3",
   "metadata": {},
   "outputs": [
    {
     "data": {
      "image/png": "[encoded data removed]",
      "text/plain": [
       "<Figure size 432x288 with 1 Axes>"
      ]
     },
     "metadata": {
      "needs_background": "light"
     },
     "output_type": "display_data"
    }
   ],
   "source": [
    "df_res[['Actual_test', 'Predicted_test', 'Predicted_test_MLP', 'Predicted_test_ANN',]].plot()\n",
    "plt.xticks(rotation=45)\n",
    "plt.xlabel(\"Time period\")\n",
    "plt.ylabel(\"Sales Volume in KG\")\n",
    "plt.show()"
   ]
  },
  {
   "cell_type": "markdown",
   "id": "378cbee4",
   "metadata": {},
   "source": [
    "ANN shows better results than Linear Regression in this case."
   ]
  },
  {
   "cell_type": "code",
   "execution_count": 51,
   "id": "0ee64d8d",
   "metadata": {},
   "outputs": [
    {
     "data": {
      "image/png": "[encoded data removed]",
      "text/plain": [
       "<Figure size 576x576 with 1 Axes>"
      ]
     },
     "metadata": {
      "needs_background": "light"
     },
     "output_type": "display_data"
    }
   ],
   "source": [
    "sns.pairplot(df_test, x_vars=['Actual_test'], y_vars='Predicted_test_ANN',  kind='reg', height = 8)\n",
    "plt.show()"
   ]
  }
 ],
 "metadata": {
  "kernelspec": {
   "display_name": "Python 3 (ipykernel)",
   "language": "python",
   "name": "python3"
  },
  "language_info": {
   "codemirror_mode": {
    "name": "ipython",
    "version": 3
   },
   "file_extension": ".py",
   "mimetype": "text/x-python",
   "name": "python",
   "nbconvert_exporter": "python",
   "pygments_lexer": "ipython3",
   "version": "3.9.7"
  }
 },
 "nbformat": 4,
 "nbformat_minor": 5
}
